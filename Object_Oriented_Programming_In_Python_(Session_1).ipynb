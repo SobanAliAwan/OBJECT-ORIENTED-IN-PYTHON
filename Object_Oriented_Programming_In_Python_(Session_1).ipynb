{
  "nbformat": 4,
  "nbformat_minor": 0,
  "metadata": {
    "colab": {
      "provenance": [],
      "authorship_tag": "ABX9TyNjtYkMw4RcFAocVmCDnFDG",
      "include_colab_link": true
    },
    "kernelspec": {
      "name": "python3",
      "display_name": "Python 3"
    },
    "language_info": {
      "name": "python"
    }
  },
  "cells": [
    {
      "cell_type": "markdown",
      "metadata": {
        "id": "view-in-github",
        "colab_type": "text"
      },
      "source": [
        "<a href=\"https://colab.research.google.com/github/SobanAliAwan/OBJECT-ORIENTED-IN-PYTHON/blob/main/Object_Oriented_Programming_In_Python_(Session_1).ipynb\" target=\"_parent\"><img src=\"https://colab.research.google.com/assets/colab-badge.svg\" alt=\"Open In Colab\"/></a>"
      ]
    },
    {
      "cell_type": "code",
      "execution_count": null,
      "metadata": {
        "id": "HXowxyu78bqa"
      },
      "outputs": [],
      "source": [
        "# syntex of creating an object\n",
        "# object_name = class_name()\n",
        "\n",
        "l = list()\n",
        "s = str()\n"
      ]
    },
    {
      "cell_type": "code",
      "source": [
        "class Atm:\n",
        "\n",
        "    def __init__(self):\n",
        "        self.pin = \"\"\n",
        "        self.balance = 0\n",
        "        self.menu()\n",
        "\n",
        "    def menu(self):\n",
        "        user_input = input(\"\"\"\n",
        "        Hello, how would you like to proceed?\n",
        "        1. Enter 1 to create pin\n",
        "        2. Enter 2 to change pin\n",
        "        3. Enter 3 to check balance\n",
        "        4. Enter 4 to withdraw\n",
        "        5. Enter 5 to exit\n",
        "        \"\"\")\n",
        "\n",
        "        if user_input == \"1\":\n",
        "            self.create_pin()\n",
        "        elif user_input == \"2\":\n",
        "            self.change_pin()\n",
        "        elif user_input == \"3\":\n",
        "            self.check_balance()\n",
        "        elif user_input == \"4\":\n",
        "            self.withdraw()\n",
        "        elif user_input == \"5\":\n",
        "            print(\"Thank you for using our service!\")\n",
        "            exit()\n",
        "        else:\n",
        "            print(\"Invalid input, please try again.\")\n",
        "            self.menu()\n",
        "\n",
        "    def create_pin(self):\n",
        "        user_pin = input(\"Enter your pin: \")\n",
        "        self.pin = user_pin\n",
        "\n",
        "        try:\n",
        "            user_balance = int(input(\"Enter your starting balance: \"))\n",
        "            self.balance = user_balance\n",
        "            print(\"Pin set successfully.\")\n",
        "        except ValueError:\n",
        "            print(\"Invalid balance input. Please enter a number.\")\n",
        "        self.menu()\n",
        "\n",
        "    def change_pin(self):\n",
        "        old_pin = input(\"Enter old pin: \")\n",
        "        if old_pin == self.pin:\n",
        "            new_pin = input(\"Enter new pin: \")\n",
        "            self.pin = new_pin\n",
        "            print(\"Pin changed successfully.\")\n",
        "        else:\n",
        "            print(\"Invalid pin.\")\n",
        "        self.menu()\n",
        "\n",
        "    def check_balance(self):\n",
        "        user_pin = input(\"Enter your pin: \")\n",
        "        if user_pin == self.pin:\n",
        "            print(\"Your balance is:\", self.balance)\n",
        "        else:\n",
        "            print(\"Invalid pin.\")\n",
        "        self.menu()\n",
        "\n",
        "    def withdraw(self):\n",
        "        user_input = input(\"Enter your pin: \")\n",
        "        if user_input == self.pin:\n",
        "            try:\n",
        "                amount = int(input(\"Enter the amount: \"))\n",
        "                if amount <= self.balance:\n",
        "                    self.balance -= amount\n",
        "                    print(\"Withdrawal successful.\")\n",
        "                    print(\"Remaining balance:\", self.balance)\n",
        "                else:\n",
        "                    print(\"Insufficient balance.\")\n",
        "            except ValueError:\n",
        "                print(\"Invalid amount. Please enter a number.\")\n",
        "        else:\n",
        "            print(\"Invalid pin.\")\n",
        "        self.menu()\n",
        "\n",
        "\n",
        "\n"
      ],
      "metadata": {
        "id": "dmkihKmtCjUb"
      },
      "execution_count": null,
      "outputs": []
    },
    {
      "cell_type": "code",
      "source": [
        "obj = Atm()"
      ],
      "metadata": {
        "colab": {
          "base_uri": "https://localhost:8080/"
        },
        "id": "FDTOU1HXDI7e",
        "outputId": "2f384ed1-1fd5-4964-a19d-4797f633ee2c"
      },
      "execution_count": null,
      "outputs": [
        {
          "output_type": "stream",
          "name": "stdout",
          "text": [
            "\n",
            "        Hello, how would you like to proceed?\n",
            "        1. Enter 1 to create pin\n",
            "        2. Enter 2 to change pin\n",
            "        3. Enter 3 to check balance\n",
            "        4. Enter 4 to withdraw\n",
            "        5. Enter 5 to exit\n",
            "        1\n",
            "Enter your pin: 12345\n",
            "Enter your starting balance: 1000\n",
            "Pin set successfully.\n",
            "\n",
            "        Hello, how would you like to proceed?\n",
            "        1. Enter 1 to create pin\n",
            "        2. Enter 2 to change pin\n",
            "        3. Enter 3 to check balance\n",
            "        4. Enter 4 to withdraw\n",
            "        5. Enter 5 to exit\n",
            "        3\n",
            "Enter your pin: 12345\n",
            "Your balance is: 1000\n",
            "\n",
            "        Hello, how would you like to proceed?\n",
            "        1. Enter 1 to create pin\n",
            "        2. Enter 2 to change pin\n",
            "        3. Enter 3 to check balance\n",
            "        4. Enter 4 to withdraw\n",
            "        5. Enter 5 to exit\n",
            "        4\n",
            "Enter your pin: 1234\n",
            "Invalid pin.\n",
            "\n",
            "        Hello, how would you like to proceed?\n",
            "        1. Enter 1 to create pin\n",
            "        2. Enter 2 to change pin\n",
            "        3. Enter 3 to check balance\n",
            "        4. Enter 4 to withdraw\n",
            "        5. Enter 5 to exit\n",
            "        4\n",
            "Enter your pin: 12345\n",
            "Enter the amount: 1100\n",
            "Insufficient balance.\n",
            "\n",
            "        Hello, how would you like to proceed?\n",
            "        1. Enter 1 to create pin\n",
            "        2. Enter 2 to change pin\n",
            "        3. Enter 3 to check balance\n",
            "        4. Enter 4 to withdraw\n",
            "        5. Enter 5 to exit\n",
            "        4\n",
            "Enter your pin: 1234\n",
            "Invalid pin.\n",
            "\n",
            "        Hello, how would you like to proceed?\n",
            "        1. Enter 1 to create pin\n",
            "        2. Enter 2 to change pin\n",
            "        3. Enter 3 to check balance\n",
            "        4. Enter 4 to withdraw\n",
            "        5. Enter 5 to exit\n",
            "        4\n",
            "Enter your pin: 12345\n",
            "Enter the amount: 500\n",
            "Withdrawal successful.\n",
            "Remaining balance: 500\n",
            "\n",
            "        Hello, how would you like to proceed?\n",
            "        1. Enter 1 to create pin\n",
            "        2. Enter 2 to change pin\n",
            "        3. Enter 3 to check balance\n",
            "        4. Enter 4 to withdraw\n",
            "        5. Enter 5 to exit\n",
            "        5\n",
            "Thank you for using our service!\n"
          ]
        }
      ]
    },
    {
      "cell_type": "code",
      "source": [
        "# creating first data type using function\n",
        "\n",
        "class fraction:\n",
        "\n",
        "  def __init__(self,x,y):\n",
        "    self.num = x\n",
        "    self.den = y\n",
        "\n",
        "  def __str__(self): # choonke constructor kuch value retunr nai karsakta to hum ne ek alag se method bana lia\n",
        "    return '{}/{}'.format(self.num,self.den)\n",
        "\n",
        "  def __add__(self,other):\n",
        "    new_num = self.num*other.den + other.num*self.den\n",
        "    new_den = self.den*other.den\n",
        "\n",
        "    return '{}/{}'.format(new_num,new_den)\n",
        "\n",
        "  def __sub__(self,other):\n",
        "    new_num = self.num*other.den - other.num*self.den\n",
        "    new_den = self.den*other.den\n",
        "\n",
        "    return '{}/{}'.format(new_num,new_den)\n",
        "\n",
        "  def __mul__(self,other):\n",
        "    new_num = self.num*other.num\n",
        "    new_den = self.den*other.den\n",
        "\n",
        "    return '{}/{}'.format(new_num,new_den)"
      ],
      "metadata": {
        "id": "HqeAhj4-BcXc"
      },
      "execution_count": 1,
      "outputs": []
    },
    {
      "cell_type": "code",
      "source": [
        "obj = fraction(3,4)\n",
        "obj2 = fraction(5,6)\n",
        "print(obj + obj2)\n"
      ],
      "metadata": {
        "colab": {
          "base_uri": "https://localhost:8080/"
        },
        "id": "Be0vB60QCUks",
        "outputId": "dbcf84e9-8dde-42f3-c62a-1f218bbbb029"
      },
      "execution_count": 2,
      "outputs": [
        {
          "output_type": "stream",
          "name": "stdout",
          "text": [
            "38/24\n"
          ]
        }
      ]
    },
    {
      "cell_type": "code",
      "source": [
        "print(obj - obj2)"
      ],
      "metadata": {
        "colab": {
          "base_uri": "https://localhost:8080/"
        },
        "id": "Cebe2RFuD7OO",
        "outputId": "9e9b3757-7353-4aab-c6f8-a01801d83d9f"
      },
      "execution_count": null,
      "outputs": [
        {
          "output_type": "stream",
          "name": "stdout",
          "text": [
            "-2/24\n"
          ]
        }
      ]
    },
    {
      "cell_type": "code",
      "source": [
        "print(obj * obj2)"
      ],
      "metadata": {
        "colab": {
          "base_uri": "https://localhost:8080/"
        },
        "id": "s-4t1Fi6EG-a",
        "outputId": "51ffa239-3dc7-4690-9601-21e1ee0ab46b"
      },
      "execution_count": null,
      "outputs": [
        {
          "output_type": "stream",
          "name": "stdout",
          "text": [
            "15/24\n"
          ]
        }
      ]
    }
  ]
}